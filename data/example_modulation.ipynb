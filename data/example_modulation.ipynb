{
 "cells": [
  {
   "cell_type": "code",
   "execution_count": 1,
   "metadata": {},
   "outputs": [
    {
     "name": "stdout",
     "output_type": "stream",
     "text": [
      "/home/utente/bahamas_test/bin/python\r\n"
     ]
    }
   ],
   "source": [
    "!which python"
   ]
  },
  {
   "cell_type": "code",
   "execution_count": 2,
   "metadata": {},
   "outputs": [
    {
     "name": "stdout",
     "output_type": "stream",
     "text": [
      "Name: bahamas\r\n",
      "Version: 0.1.0\r\n",
      "Summary: BAyesian HAmiltonian Montecarlo Analysis for Stochastic gravitational wave signal\r\n",
      "Home-page: UNKNOWN\r\n",
      "Author: Federico Pozzoli\r\n",
      "Author-email: fpozzoli@uninsubria.it\r\n",
      "License: UNKNOWN\r\n",
      "Location: /home/utente/bahamas\r\n",
      "Requires: h5py, jax, jaxlib, matplotlib, nessai, numpy, numpyro, pyyaml, scipy\r\n",
      "Required-by: \r\n"
     ]
    }
   ],
   "source": [
    "!pip show bahamas"
   ]
  },
  {
   "cell_type": "code",
   "execution_count": 3,
   "metadata": {},
   "outputs": [
    {
     "name": "stdout",
     "output_type": "stream",
     "text": [
      "/home/utente/bahamas_test/bin/python\n"
     ]
    }
   ],
   "source": [
    "import sys\n",
    "print(sys.executable)"
   ]
  },
  {
   "cell_type": "code",
   "execution_count": 4,
   "metadata": {},
   "outputs": [],
   "source": [
    "import yaml \n",
    "import corner\n",
    "import numpy as np\n",
    "import jax.numpy as jnp\n",
    "import matplotlib.pyplot as plt"
   ]
  },
  {
   "cell_type": "code",
   "execution_count": 5,
   "metadata": {},
   "outputs": [],
   "source": [
    "import bahamas.psd_response.modulation as mod\n",
    "import bahamas.psd_response.average_envelope as mod_av"
   ]
  },
  {
   "cell_type": "code",
   "execution_count": 15,
   "metadata": {},
   "outputs": [],
   "source": [
    "s1 = 0.04\n",
    "s2 = 0.14\n",
    "sinpsi = -0.99\n",
    "sinLat = -0.09\n",
    "Long = -1.62"
   ]
  },
  {
   "cell_type": "code",
   "execution_count": 22,
   "metadata": {},
   "outputs": [],
   "source": [
    "year = 31557600.0\n",
    "dt = 5\n",
    "t = np.arange(0, year, dt)\n",
    "\n",
    "nchunk = 26\n",
    "t_chunk = np.linspace(0, year, nchunk)\n",
    "t1 = t_chunk[:-1]\n",
    "t2 = t_chunk[1:]"
   ]
  },
  {
   "cell_type": "code",
   "execution_count": 17,
   "metadata": {},
   "outputs": [],
   "source": [
    "A, E = mod.envelopes_gaussian(EclipticLatitude=sinLat, EclipticLongitude=Long, sinPsi=sinpsi,\n",
    "                             Sigma1 = s1, Sigma2 = s2, t = t, LISA_Orbital_Freq=1 / year)"
   ]
  },
  {
   "cell_type": "code",
   "execution_count": 18,
   "metadata": {},
   "outputs": [],
   "source": [
    "A_av = mod_av.average_envelopes_gaussian(SinEclipticLatitude=sinLat, EclipticLongitude=Long, sinPsi=sinpsi,\n",
    "                             Sigma1 = s1, Sigma2 = s2, t1 = t1, t2 = t2, LISA_Orbital_Freq=1 / year)\n",
    "\n",
    "#inside the likelihood we need the average of squared amplitude since we are modeling the spectrum\n",
    "#here we take instead the amplitude\n",
    "A_av = A_av ** 0.5"
   ]
  },
  {
   "cell_type": "code",
   "execution_count": null,
   "metadata": {},
   "outputs": [],
   "source": [
    "plt.plot(t / year, A)\n",
    "plt.scatter(0.5 * (t1 + t2) / year, A_av, marker = '*')\n",
    "plt.xlabel('time [yr]')\n",
    "plt.ylabel('A')\n",
    "plt.grid()"
   ]
  },
  {
   "cell_type": "code",
   "execution_count": null,
   "metadata": {},
   "outputs": [],
   "source": []
  },
  {
   "cell_type": "code",
   "execution_count": null,
   "metadata": {},
   "outputs": [],
   "source": []
  }
 ],
 "metadata": {
  "kernelspec": {
   "display_name": "Python (bahamas_test)",
   "language": "python",
   "name": "bahamas_test"
  },
  "language_info": {
   "codemirror_mode": {
    "name": "ipython",
    "version": 3
   },
   "file_extension": ".py",
   "mimetype": "text/x-python",
   "name": "python",
   "nbconvert_exporter": "python",
   "pygments_lexer": "ipython3",
   "version": "3.9.13"
  }
 },
 "nbformat": 4,
 "nbformat_minor": 2
}
